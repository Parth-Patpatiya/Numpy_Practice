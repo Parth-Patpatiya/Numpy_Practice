{
 "cells": [
  {
   "cell_type": "markdown",
   "id": "fffb2919",
   "metadata": {},
   "source": [
    "# NumPy Practice Questions\n",
    "This notebook contains **30 questions** to help you master the **NumPy** library.\n",
    "- **Easy Level:** Basic array creation, properties, and operations.\n",
    "- **Medium Level:** Indexing, slicing, reshaping, and statistical operations.\n",
    "- **Hard Level:** Linear algebra, broadcasting, and advanced operations.\n",
    "Let's get started! 🚀"
   ]
  },
  {
   "cell_type": "markdown",
   "id": "a00aca3f",
   "metadata": {},
   "source": [
    "### Q1: Create a 1D NumPy array with numbers from 1 to 10."
   ]
  },
  {
   "cell_type": "code",
   "execution_count": null,
   "id": "4fb191e6",
   "metadata": {},
   "outputs": [],
   "source": [
    "# Answer 1\n",
    "import numpy as np\n",
    "arr = np.arange(1, 11)\n",
    "print(arr)"
   ]
  },
  {
   "cell_type": "markdown",
   "id": "9e53fbc5",
   "metadata": {},
   "source": [
    "### Q2: Create a 3x3 array filled with zeros."
   ]
  },
  {
   "cell_type": "code",
   "execution_count": null,
   "id": "37a63f68",
   "metadata": {},
   "outputs": [],
   "source": [
    "# Answer 2\n",
    "zeros_array = np.zeros((3, 3))\n",
    "print(zeros_array)"
   ]
  },
  {
   "cell_type": "markdown",
   "id": "02a9ee0d",
   "metadata": {},
   "source": [
    "### Q3: Create a 3x3 array filled with random numbers."
   ]
  },
  {
   "cell_type": "code",
   "execution_count": null,
   "id": "0bb3b480",
   "metadata": {},
   "outputs": [],
   "source": [
    "# Answer 3\n",
    "random_array = np.random.random((3, 3))\n",
    "print(random_array)"
   ]
  },
  {
   "cell_type": "markdown",
   "id": "05b0736d",
   "metadata": {},
   "source": [
    "### Q4: Create an array of 10 equally spaced values between 5 and 15."
   ]
  },
  {
   "cell_type": "code",
   "execution_count": null,
   "id": "16a4d1b3",
   "metadata": {},
   "outputs": [],
   "source": [
    "# Answer 4\n",
    "linspace_array = np.linspace(5, 15, 10)\n",
    "print(linspace_array)"
   ]
  },
  {
   "cell_type": "markdown",
   "id": "a100a9bd",
   "metadata": {},
   "source": [
    "### Q5: Get the shape, size, and data type of a 2D NumPy array."
   ]
  },
  {
   "cell_type": "code",
   "execution_count": null,
   "id": "d655500c",
   "metadata": {},
   "outputs": [],
   "source": [
    "# Answer 5\n",
    "arr = np.array([[1, 2, 3], [4, 5, 6]])\n",
    "print('Shape:', arr.shape)\n",
    "print('Size:', arr.size)\n",
    "print('Data type:', arr.dtype)"
   ]
  },
  {
   "cell_type": "markdown",
   "id": "fc902f60",
   "metadata": {},
   "source": [
    "### Q6: Reshape a 1D array of 12 elements into a 3x4 matrix."
   ]
  },
  {
   "cell_type": "code",
   "execution_count": null,
   "id": "6c154d2c",
   "metadata": {},
   "outputs": [],
   "source": [
    "# Answer 6\n",
    "arr = np.arange(12)\n",
    "reshaped_arr = arr.reshape(3, 4)\n",
    "print(reshaped_arr)"
   ]
  },
  {
   "cell_type": "markdown",
   "id": "9c46e2c4",
   "metadata": {},
   "source": [
    "### Q7: Get the maximum and minimum values from a 2D array."
   ]
  },
  {
   "cell_type": "code",
   "execution_count": null,
   "id": "7fc41b86",
   "metadata": {},
   "outputs": [],
   "source": [
    "# Answer 7\n",
    "arr = np.array([[5, 8, 2], [3, 7, 1]])\n",
    "print('Max value:', np.max(arr))\n",
    "print('Min value:', np.min(arr))"
   ]
  },
  {
   "cell_type": "markdown",
   "id": "79108585",
   "metadata": {},
   "source": [
    "### Q8: Extract the diagonal elements from a 3x3 matrix."
   ]
  },
  {
   "cell_type": "code",
   "execution_count": null,
   "id": "df486113",
   "metadata": {},
   "outputs": [],
   "source": [
    "# Answer 8\n",
    "arr = np.array([[1, 2, 3], [4, 5, 6], [7, 8, 9]])\n",
    "diagonal_elements = np.diagonal(arr)\n",
    "print(diagonal_elements)"
   ]
  },
  {
   "cell_type": "markdown",
   "id": "ac4246f8",
   "metadata": {},
   "source": [
    "### Q9: Stack two arrays vertically and horizontally."
   ]
  },
  {
   "cell_type": "code",
   "execution_count": null,
   "id": "2f769f03",
   "metadata": {},
   "outputs": [],
   "source": [
    "# Answer 9\n",
    "arr1 = np.array([[1, 2], [3, 4]])\n",
    "arr2 = np.array([[5, 6], [7, 8]])\n",
    "vertical_stack = np.vstack((arr1, arr2))\n",
    "horizontal_stack = np.hstack((arr1, arr2))\n",
    "print('Vertical Stack:\\n', vertical_stack)\n",
    "print('Horizontal Stack:\\n', horizontal_stack)"
   ]
  },
  {
   "cell_type": "markdown",
   "id": "780436ba",
   "metadata": {},
   "source": [
    "### Q10: Get the mean, median, and standard deviation of an array."
   ]
  },
  {
   "cell_type": "code",
   "execution_count": null,
   "id": "f9681a3d",
   "metadata": {},
   "outputs": [],
   "source": [
    "# Answer 10\n",
    "arr = np.array([1, 2, 3, 4, 5, 6])\n",
    "print('Mean:', np.mean(arr))\n",
    "print('Median:', np.median(arr))\n",
    "print('Standard Deviation:', np.std(arr))"
   ]
  },
  {
   "cell_type": "markdown",
   "id": "d101fa01",
   "metadata": {},
   "source": [
    "### Q11: Perform matrix multiplication of two 3x3 matrices."
   ]
  },
  {
   "cell_type": "code",
   "execution_count": null,
   "id": "7f53adec",
   "metadata": {},
   "outputs": [],
   "source": [
    "# Answer 11\n",
    "arr1 = np.array([[1, 2, 3], [4, 5, 6], [7, 8, 9]])\n",
    "arr2 = np.array([[9, 8, 7], [6, 5, 4], [3, 2, 1]])\n",
    "result = np.dot(arr1, arr2)\n",
    "print(result)"
   ]
  },
  {
   "cell_type": "markdown",
   "id": "a12c35c8",
   "metadata": {},
   "source": [
    "### Q12: Compute the eigenvalues and eigenvectors of a 2x2 matrix."
   ]
  },
  {
   "cell_type": "code",
   "execution_count": null,
   "id": "1b9b3a79",
   "metadata": {},
   "outputs": [],
   "source": [
    "# Answer 12\n",
    "matrix = np.array([[4, -2], [1, 1]])\n",
    "eigenvalues, eigenvectors = np.linalg.eig(matrix)\n",
    "print('Eigenvalues:', eigenvalues)\n",
    "print('Eigenvectors:\\n', eigenvectors)"
   ]
  },
  {
   "cell_type": "markdown",
   "id": "a37c4bcc",
   "metadata": {},
   "source": [
    "### Q13: Create a 5x5 matrix with 1s on the border and 0s inside."
   ]
  },
  {
   "cell_type": "code",
   "execution_count": null,
   "id": "b3d1c25f",
   "metadata": {},
   "outputs": [],
   "source": [
    "# Answer 13\n",
    "matrix = np.ones((5, 5))\n",
    "matrix[1:-1, 1:-1] = 0\n",
    "print(matrix)"
   ]
  },
  {
   "cell_type": "markdown",
   "id": "aaf28f8e",
   "metadata": {},
   "source": [
    "### Q14: Find the inverse of a 3x3 matrix."
   ]
  },
  {
   "cell_type": "code",
   "execution_count": null,
   "id": "663d3a7d",
   "metadata": {},
   "outputs": [],
   "source": [
    "# Answer 14\n",
    "matrix = np.array([[3, 1, 2], [1, 1, 1], [2, 1, 3]])\n",
    "inverse_matrix = np.linalg.inv(matrix)\n",
    "print(inverse_matrix)"
   ]
  },
  {
   "cell_type": "markdown",
   "id": "8abfd3c2",
   "metadata": {},
   "source": [
    "### Q15: Generate a random 5x5 matrix and normalize it between 0 and 1."
   ]
  },
  {
   "cell_type": "code",
   "execution_count": null,
   "id": "c6213ddf",
   "metadata": {},
   "outputs": [],
   "source": [
    "# Answer 15\n",
    "matrix = np.random.random((5, 5))\n",
    "normalized_matrix = (matrix - np.min(matrix)) / (np.max(matrix) - np.min(matrix))\n",
    "print(normalized_matrix)"
   ]
  }
 ],
 "metadata": {},
 "nbformat": 4,
 "nbformat_minor": 5
}